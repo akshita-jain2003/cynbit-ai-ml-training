{
 "cells": [
  {
   "cell_type": "markdown",
   "id": "32c923c3-e0fa-4186-bb79-2e026b58edbc",
   "metadata": {},
   "source": [
    "# NumPy  array operations"
   ]
  },
  {
   "cell_type": "code",
   "execution_count": 2,
   "id": "94a1d73b-585e-4134-a97c-82e8a058314b",
   "metadata": {},
   "outputs": [],
   "source": [
    "import numpy as np"
   ]
  },
  {
   "cell_type": "code",
   "execution_count": 9,
   "id": "9d2b7b74-58f1-41c6-b331-4d274857317b",
   "metadata": {},
   "outputs": [
    {
     "name": "stdout",
     "output_type": "stream",
     "text": [
      "[23 45  1  3 78 54  4  8  9 12]\n"
     ]
    }
   ],
   "source": [
    "# 1D array\n",
    "arr = np.array([23,45,1,3,78,54,4,8,9,12])\n",
    "print(arr)"
   ]
  },
  {
   "cell_type": "code",
   "execution_count": 39,
   "id": "79033bb4-826a-4b77-aee3-e179e460aae2",
   "metadata": {},
   "outputs": [
    {
     "data": {
      "text/plain": [
       "array([[1, 2, 3],\n",
       "       [4, 5, 6]])"
      ]
     },
     "execution_count": 39,
     "metadata": {},
     "output_type": "execute_result"
    }
   ],
   "source": [
    "# Multi-dimensional array:\n",
    "arrmd = np.array([[1,2,3],[4,5,6]])\n",
    "arrmd"
   ]
  },
  {
   "cell_type": "code",
   "execution_count": 40,
   "id": "af8c6de1-7fab-4d9c-932b-e6e6fb8834e2",
   "metadata": {},
   "outputs": [
    {
     "data": {
      "text/plain": [
       "dtype('int64')"
      ]
     },
     "execution_count": 40,
     "metadata": {},
     "output_type": "execute_result"
    }
   ],
   "source": [
    "arrmd.dtype"
   ]
  },
  {
   "cell_type": "markdown",
   "id": "7ea708c2-007a-4b5b-ae4e-ea1fd682c4ca",
   "metadata": {},
   "source": [
    "#  Basic 1D Array Slicing "
   ]
  },
  {
   "cell_type": "code",
   "execution_count": 12,
   "id": "3707f400-77a1-4982-bde1-5637a90017f5",
   "metadata": {},
   "outputs": [
    {
     "name": "stdout",
     "output_type": "stream",
     "text": [
      "[23 45  1  3]\n"
     ]
    }
   ],
   "source": [
    "# Syntax: arr[start : stop : step]\n",
    "\n",
    "print(arr[:4])"
   ]
  },
  {
   "cell_type": "code",
   "execution_count": 13,
   "id": "0470e76f-9418-4bf5-ad7b-ef1314ba6900",
   "metadata": {},
   "outputs": [
    {
     "name": "stdout",
     "output_type": "stream",
     "text": [
      "[23 45  1  3 78 54  4  8  9 12]\n"
     ]
    }
   ],
   "source": [
    "print(arr[:])"
   ]
  },
  {
   "cell_type": "code",
   "execution_count": 14,
   "id": "e7d4e6b9-444c-4c68-a589-5b328a552a6b",
   "metadata": {},
   "outputs": [
    {
     "name": "stdout",
     "output_type": "stream",
     "text": [
      "[23  1 78  4  9]\n"
     ]
    }
   ],
   "source": [
    "print(arr[::2])"
   ]
  },
  {
   "cell_type": "code",
   "execution_count": 15,
   "id": "5efe0778-f033-4971-a84a-6d2e1c7f38ab",
   "metadata": {},
   "outputs": [
    {
     "name": "stdout",
     "output_type": "stream",
     "text": [
      "[ 8  9 12]\n"
     ]
    }
   ],
   "source": [
    "print(arr[-3:])"
   ]
  },
  {
   "cell_type": "code",
   "execution_count": 16,
   "id": "fe3a282a-082c-4f99-851b-ad35bf45156f",
   "metadata": {},
   "outputs": [
    {
     "name": "stdout",
     "output_type": "stream",
     "text": [
      "[ 8  4 54 78  3  1 45]\n"
     ]
    }
   ],
   "source": [
    "# reverse the slice\n",
    "print(arr[-3:0:-1])"
   ]
  },
  {
   "cell_type": "code",
   "execution_count": 20,
   "id": "441ad065-6803-43de-b0d6-d43820c283af",
   "metadata": {},
   "outputs": [
    {
     "name": "stdout",
     "output_type": "stream",
     "text": [
      "[45  3]\n"
     ]
    }
   ],
   "source": [
    "print(arr[-9:4:2])"
   ]
  },
  {
   "cell_type": "code",
   "execution_count": 21,
   "id": "2fe6f982-ede3-41a4-8d89-a486ab6b6e4b",
   "metadata": {},
   "outputs": [
    {
     "name": "stdout",
     "output_type": "stream",
     "text": [
      "[]\n"
     ]
    }
   ],
   "source": [
    "print(arr[-4:4:2])"
   ]
  },
  {
   "cell_type": "markdown",
   "id": "45e6b7e4-ecf8-4954-bf27-ab68876586a7",
   "metadata": {},
   "source": [
    "#  Slicing in Multi-dimensional NumPy Arrays"
   ]
  },
  {
   "cell_type": "code",
   "execution_count": 42,
   "id": "5830215d-af1e-4d3a-99aa-74a00a94da1f",
   "metadata": {},
   "outputs": [
    {
     "data": {
      "text/plain": [
       "array([[1, 2, 3],\n",
       "       [4, 5, 6]])"
      ]
     },
     "execution_count": 42,
     "metadata": {},
     "output_type": "execute_result"
    }
   ],
   "source": [
    "arrmd"
   ]
  },
  {
   "cell_type": "code",
   "execution_count": 41,
   "id": "fd104b1d-95e1-4247-878e-845c7d725e76",
   "metadata": {},
   "outputs": [
    {
     "name": "stdout",
     "output_type": "stream",
     "text": [
      "[[1 2 3]\n",
      " [4 5 6]]\n"
     ]
    }
   ],
   "source": [
    "print(arrmd[0:2:1])"
   ]
  },
  {
   "cell_type": "code",
   "execution_count": 43,
   "id": "20a902ec-881d-4c0d-8ef6-e7fc22db7c66",
   "metadata": {},
   "outputs": [
    {
     "name": "stdout",
     "output_type": "stream",
     "text": [
      "[[1 2]\n",
      " [4 5]]\n"
     ]
    }
   ],
   "source": [
    "# Get all rows, first two columns\n",
    "print(arrmd[:, 0:2])"
   ]
  },
  {
   "cell_type": "code",
   "execution_count": 45,
   "id": "5a4fba00-ad0d-4cbc-97e4-9863506fb67d",
   "metadata": {},
   "outputs": [
    {
     "name": "stdout",
     "output_type": "stream",
     "text": [
      "[[4 5 6]\n",
      " [1 2 3]]\n"
     ]
    }
   ],
   "source": [
    "# Reverse all rows\n",
    "print(arrmd[::-1,:])"
   ]
  },
  {
   "cell_type": "code",
   "execution_count": 46,
   "id": "10165f4c-273c-4c35-9502-66f86cb348fc",
   "metadata": {},
   "outputs": [
    {
     "name": "stdout",
     "output_type": "stream",
     "text": [
      "[[3 2 1]\n",
      " [6 5 4]]\n"
     ]
    }
   ],
   "source": [
    "# Reverse all columns\n",
    "print(arrmd[:,::-1])"
   ]
  },
  {
   "cell_type": "code",
   "execution_count": 47,
   "id": "474b66a6-9971-45bf-a272-b76c8378eabd",
   "metadata": {},
   "outputs": [
    {
     "data": {
      "text/plain": [
       "array([1, 5])"
      ]
     },
     "execution_count": 47,
     "metadata": {},
     "output_type": "execute_result"
    }
   ],
   "source": [
    "# Get diagonal elements\n",
    "np.diag(arrmd)"
   ]
  },
  {
   "cell_type": "code",
   "execution_count": 49,
   "id": "e8fad8dd-ae3b-4707-b60d-d3c9513345d0",
   "metadata": {},
   "outputs": [
    {
     "data": {
      "text/plain": [
       "array([4, 5, 6])"
      ]
     },
     "execution_count": 49,
     "metadata": {},
     "output_type": "execute_result"
    }
   ],
   "source": [
    "# Get last row\n",
    "arrmd[-1, :]"
   ]
  },
  {
   "cell_type": "markdown",
   "id": "d8dd6c54-aded-4cbf-a475-b66182d6914d",
   "metadata": {},
   "source": [
    "# reshaping in NumPy array"
   ]
  },
  {
   "cell_type": "code",
   "execution_count": 52,
   "id": "c162db49-3452-48b1-b5c5-357e58ad9c1e",
   "metadata": {},
   "outputs": [
    {
     "name": "stdout",
     "output_type": "stream",
     "text": [
      "[[11  2 30]\n",
      " [42 52  6]]\n"
     ]
    }
   ],
   "source": [
    "arr1 = np.array([11, 2, 30, 42, 52, 6])\n",
    "reshaped = arr1.reshape(2,3)\n",
    "print(reshaped"
   ]
  },
  {
   "cell_type": "code",
   "execution_count": 54,
   "id": "76d894fe-dd2e-446f-9238-3064e6d2d765",
   "metadata": {},
   "outputs": [
    {
     "name": "stdout",
     "output_type": "stream",
     "text": [
      "[11  2 30 42 52  6]\n"
     ]
    }
   ],
   "source": [
    " # or arr2.flatten()\n",
    "arr2 =  np.array([[11,2,30],[42,52,6]])\n",
    "flattened = arr2.reshape(-1) \n",
    "print(flattened)"
   ]
  },
  {
   "cell_type": "code",
   "execution_count": 55,
   "id": "5057343d-db0c-45d7-9be7-b301a31497e3",
   "metadata": {},
   "outputs": [
    {
     "name": "stdout",
     "output_type": "stream",
     "text": [
      "[[11  2]\n",
      " [30 42]\n",
      " [52  6]]\n"
     ]
    }
   ],
   "source": [
    "# Using -1 in reshape (Auto-calculate size)\n",
    "reshaped = arr1.reshape(3, -1) \n",
    "print(reshaped)"
   ]
  },
  {
   "cell_type": "code",
   "execution_count": 56,
   "id": "3f3e4c91-b53a-496c-aa6a-4a75482bcfa8",
   "metadata": {},
   "outputs": [
    {
     "name": "stdout",
     "output_type": "stream",
     "text": [
      "[[[1 2]\n",
      "  [3 4]]\n",
      "\n",
      " [[5 6]\n",
      "  [7 8]]]\n"
     ]
    }
   ],
   "source": [
    "arr3 = np.array([1, 2, 3, 4, 5, 6, 7, 8])\n",
    "reshaped = arr3.reshape(2, 2, 2)\n",
    "print(reshaped)"
   ]
  },
  {
   "cell_type": "markdown",
   "id": "8f1943a1-37bf-4b85-adc0-452a6dc5d677",
   "metadata": {},
   "source": [
    "# Broadcasting"
   ]
  },
  {
   "cell_type": "code",
   "execution_count": 58,
   "id": "e273c9f9-c79a-4ffa-8697-312a72336689",
   "metadata": {},
   "outputs": [
    {
     "name": "stdout",
     "output_type": "stream",
     "text": [
      "[2 3 4]\n"
     ]
    }
   ],
   "source": [
    "a = np.array([1, 2, 3])     \n",
    "b = 1\n",
    "\n",
    "result = a + b              \n",
    "print(result)"
   ]
  },
  {
   "cell_type": "code",
   "execution_count": 60,
   "id": "89e51bc5-fcf6-4b68-b16e-1913f629e861",
   "metadata": {},
   "outputs": [
    {
     "name": "stdout",
     "output_type": "stream",
     "text": [
      "[[41 42 43]\n",
      " [21 22 23]\n",
      " [11 12 13]]\n"
     ]
    }
   ],
   "source": [
    "c = np.array([[1, 2, 3]])     \n",
    "d = np.array([[40],\n",
    "              [20],\n",
    "              [10]])         \n",
    "\n",
    "result = c + d\n",
    "print(result)"
   ]
  },
  {
   "cell_type": "code",
   "execution_count": 61,
   "id": "14ae4b0f-b670-4607-923b-341e4aab7156",
   "metadata": {},
   "outputs": [
    {
     "name": "stdout",
     "output_type": "stream",
     "text": [
      "[[51 52 53]\n",
      " [31 32 33]\n",
      " [21 22 23]]\n"
     ]
    }
   ],
   "source": [
    "print(result + 10)"
   ]
  },
  {
   "cell_type": "code",
   "execution_count": null,
   "id": "616d2730-9a0a-41dd-932d-17b6fd954e9a",
   "metadata": {},
   "outputs": [],
   "source": []
  }
 ],
 "metadata": {
  "kernelspec": {
   "display_name": "Python [conda env:base] *",
   "language": "python",
   "name": "conda-base-py"
  },
  "language_info": {
   "codemirror_mode": {
    "name": "ipython",
    "version": 3
   },
   "file_extension": ".py",
   "mimetype": "text/x-python",
   "name": "python",
   "nbconvert_exporter": "python",
   "pygments_lexer": "ipython3",
   "version": "3.12.7"
  }
 },
 "nbformat": 4,
 "nbformat_minor": 5
}
