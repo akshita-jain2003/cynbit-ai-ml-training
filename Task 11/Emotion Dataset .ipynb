{
 "cells": [
  {
   "cell_type": "markdown",
   "id": "f5c3505e-c72c-4c22-9083-7cf39539973c",
   "metadata": {},
   "source": [
    "# Emotions Dataset"
   ]
  },
  {
   "cell_type": "code",
   "execution_count": 4,
   "id": "50ca768b-ff2d-4aa7-8263-16576b6ef429",
   "metadata": {},
   "outputs": [
    {
     "data": {
      "text/html": [
       "<div>\n",
       "<style scoped>\n",
       "    .dataframe tbody tr th:only-of-type {\n",
       "        vertical-align: middle;\n",
       "    }\n",
       "\n",
       "    .dataframe tbody tr th {\n",
       "        vertical-align: top;\n",
       "    }\n",
       "\n",
       "    .dataframe thead th {\n",
       "        text-align: right;\n",
       "    }\n",
       "</style>\n",
       "<table border=\"1\" class=\"dataframe\">\n",
       "  <thead>\n",
       "    <tr style=\"text-align: right;\">\n",
       "      <th></th>\n",
       "      <th>text</th>\n",
       "      <th>emotion</th>\n",
       "    </tr>\n",
       "  </thead>\n",
       "  <tbody>\n",
       "    <tr>\n",
       "      <th>0</th>\n",
       "      <td>i didnt feel humiliated</td>\n",
       "      <td>sadness</td>\n",
       "    </tr>\n",
       "    <tr>\n",
       "      <th>1</th>\n",
       "      <td>i can go from feeling so hopeless to so damned...</td>\n",
       "      <td>sadness</td>\n",
       "    </tr>\n",
       "    <tr>\n",
       "      <th>2</th>\n",
       "      <td>im grabbing a minute to post i feel greedy wrong</td>\n",
       "      <td>anger</td>\n",
       "    </tr>\n",
       "    <tr>\n",
       "      <th>3</th>\n",
       "      <td>i am ever feeling nostalgic about the fireplac...</td>\n",
       "      <td>love</td>\n",
       "    </tr>\n",
       "    <tr>\n",
       "      <th>4</th>\n",
       "      <td>i am feeling grouchy</td>\n",
       "      <td>anger</td>\n",
       "    </tr>\n",
       "  </tbody>\n",
       "</table>\n",
       "</div>"
      ],
      "text/plain": [
       "                                                text  emotion\n",
       "0                            i didnt feel humiliated  sadness\n",
       "1  i can go from feeling so hopeless to so damned...  sadness\n",
       "2   im grabbing a minute to post i feel greedy wrong    anger\n",
       "3  i am ever feeling nostalgic about the fireplac...     love\n",
       "4                               i am feeling grouchy    anger"
      ]
     },
     "execution_count": 4,
     "metadata": {},
     "output_type": "execute_result"
    }
   ],
   "source": [
    "import zipfile\n",
    "import pandas as pd\n",
    "\n",
    "# Extract ZIP\n",
    "with zipfile.ZipFile(r\"C:\\Users\\jvina\\Cynbit_training\\archive.zip\", 'r') as zip_ref:\n",
    "    zip_ref.extractall(\"emotions_dataset\")\n",
    "\n",
    "# Load datasets\n",
    "def load_data(filename):\n",
    "    return pd.read_csv(filename, sep=';', header=None, names=['text', 'emotion'])\n",
    "\n",
    "train = load_data(\"emotions_dataset/train.txt\")\n",
    "test = load_data(\"emotions_dataset/test.txt\")\n",
    "val = load_data(\"emotions_dataset/val.txt\")\n",
    "\n",
    "train.head()\n"
   ]
  },
  {
   "cell_type": "markdown",
   "id": "4ffe977e-853c-4d5c-9cd5-223b8ecffdca",
   "metadata": {},
   "source": [
    "#  Preprocess text"
   ]
  },
  {
   "cell_type": "code",
   "execution_count": 13,
   "id": "4da952c5-0495-45e3-9bd1-12d377b7d3e0",
   "metadata": {},
   "outputs": [],
   "source": [
    "from sklearn.feature_extraction.text import TfidfVectorizer\n",
    "from sklearn.preprocessing import LabelEncoder\n",
    "\n",
    "def preprocess_data(df):\n",
    "    df['text'] =  df['text'].str.lower()\n",
    "    return df\n",
    "\n",
    "# Preprocess train, test, val\n",
    "train =  preprocess_data(train)\n",
    "test  =  preprocess_data(test)\n",
    "val   =  preprocess_data(val)\n",
    "\n",
    "# Convert emotions to numbers\n",
    "label_encoder = LabelEncoder()\n",
    "train_labels = label_encoder.fit_transform(train['emotion'])\n",
    "test_labels = label_encoder.transform(test['emotion'])\n",
    "val_labels = label_encoder.transform(val['emotion'])\n",
    "\n",
    "# Vectorize text using TF-IDF\n",
    "vectorizer = TfidfVectorizer(max_features = 5000)\n",
    "X_train = vectorizer.fit_transform(train['text'])\n",
    "X_test = vectorizer.transform(test['text'])\n",
    "X_val = vectorizer.transform(val['text'])\n"
   ]
  },
  {
   "cell_type": "markdown",
   "id": "0285f109-8160-4907-bce6-dafac5d95197",
   "metadata": {},
   "source": [
    "# Train Logistic Regression model"
   ]
  },
  {
   "cell_type": "code",
   "execution_count": 14,
   "id": "5ea0ad38-a38f-4902-9a44-39ba63bb1ccc",
   "metadata": {},
   "outputs": [
    {
     "name": "stdout",
     "output_type": "stream",
     "text": [
      "Accuracy: 0.869\n",
      "\n",
      "Classification Report:\n",
      "               precision    recall  f1-score   support\n",
      "\n",
      "       anger       0.90      0.82      0.86       275\n",
      "        fear       0.89      0.80      0.84       224\n",
      "         joy       0.84      0.96      0.89       695\n",
      "        love       0.83      0.60      0.69       159\n",
      "     sadness       0.90      0.93      0.92       581\n",
      "    surprise       0.85      0.52      0.64        66\n",
      "\n",
      "    accuracy                           0.87      2000\n",
      "   macro avg       0.87      0.77      0.81      2000\n",
      "weighted avg       0.87      0.87      0.86      2000\n",
      "\n"
     ]
    }
   ],
   "source": [
    "from sklearn.linear_model import LogisticRegression\n",
    "from sklearn.metrics import accuracy_score, classification_report\n",
    "\n",
    "model = LogisticRegression(max_iter = 1000)\n",
    "model.fit(X_train, train_labels)\n",
    "\n",
    "#  Evaluate on test data\n",
    "y_pred = model.predict(X_test)\n",
    "\n",
    "# Accuracy\n",
    "print(\"Accuracy:\", accuracy_score(test_labels, y_pred))\n",
    "\n",
    "# Detailed performance\n",
    "print(\"\\nClassification Report:\\n\", classification_report(test_labels, y_pred, target_names=label_encoder.classes_))"
   ]
  },
  {
   "cell_type": "markdown",
   "id": "c839dd1f-e9c5-45c5-9702-9fc8da57991d",
   "metadata": {},
   "source": [
    "# Naive Bayes  model"
   ]
  },
  {
   "cell_type": "code",
   "execution_count": 17,
   "id": "caf476ba-c32a-47ce-beb1-4d63c242caef",
   "metadata": {},
   "outputs": [
    {
     "name": "stdout",
     "output_type": "stream",
     "text": [
      "Accuracy: 0.7165\n",
      "\n",
      "Classification Report:\n",
      "               precision    recall  f1-score   support\n",
      "\n",
      "       anger       0.94      0.40      0.56       275\n",
      "        fear       0.90      0.38      0.54       224\n",
      "         joy       0.68      0.98      0.80       695\n",
      "        love       1.00      0.12      0.21       159\n",
      "     sadness       0.70      0.92      0.80       581\n",
      "    surprise       0.00      0.00      0.00        66\n",
      "\n",
      "    accuracy                           0.72      2000\n",
      "   macro avg       0.70      0.47      0.48      2000\n",
      "weighted avg       0.75      0.72      0.66      2000\n",
      "\n"
     ]
    }
   ],
   "source": [
    "from sklearn.naive_bayes import MultinomialNB\n",
    "from sklearn.metrics import accuracy_score, classification_report\n",
    "\n",
    "# Train Naive Bayes model\n",
    "nb_model = MultinomialNB()\n",
    "nb_model.fit(X_train, train_labels)\n",
    "\n",
    "# Predict on test data\n",
    "y_pred_nb = nb_model.predict(X_test)\n",
    "\n",
    "# Accuracy\n",
    "print(\"Accuracy:\", accuracy_score(test_labels, y_pred_nb))\n",
    "\n",
    "# Classification report\n",
    "print(\"\\nClassification Report:\\n\", classification_report(test_labels, y_pred_nb, target_names=label_encoder.classes_, zero_division=0))\n"
   ]
  },
  {
   "cell_type": "code",
   "execution_count": 18,
   "id": "2bb6b050-38dc-440f-a7d5-63b613ececdb",
   "metadata": {},
   "outputs": [
    {
     "data": {
      "text/plain": [
       "['label_encoder.pkl']"
      ]
     },
     "execution_count": 18,
     "metadata": {},
     "output_type": "execute_result"
    }
   ],
   "source": [
    "import joblib\n",
    "\n",
    "# Save trained model, vectorizer, and encoder\n",
    "joblib.dump(model, \"emotion_model.pkl\")\n",
    "joblib.dump(vectorizer, \"tfidf_vectorizer.pkl\")\n",
    "joblib.dump(label_encoder, \"label_encoder.pkl\")\n"
   ]
  },
  {
   "cell_type": "code",
   "execution_count": null,
   "id": "38a2e40f-d903-4cc2-86fc-c1a6a3050732",
   "metadata": {},
   "outputs": [],
   "source": []
  }
 ],
 "metadata": {
  "kernelspec": {
   "display_name": "Python [conda env:base] *",
   "language": "python",
   "name": "conda-base-py"
  },
  "language_info": {
   "codemirror_mode": {
    "name": "ipython",
    "version": 3
   },
   "file_extension": ".py",
   "mimetype": "text/x-python",
   "name": "python",
   "nbconvert_exporter": "python",
   "pygments_lexer": "ipython3",
   "version": "3.12.7"
  }
 },
 "nbformat": 4,
 "nbformat_minor": 5
}
