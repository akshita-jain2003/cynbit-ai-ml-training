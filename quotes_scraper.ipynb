{
 "cells": [
  {
   "cell_type": "code",
   "execution_count": 3,
   "id": "cb8ee03e-6c65-44f4-bacf-938851022822",
   "metadata": {},
   "outputs": [],
   "source": [
    "import requests\n",
    "from bs4 import BeautifulSoup\n",
    "import pandas as pd"
   ]
  },
  {
   "cell_type": "markdown",
   "id": "3f54d6cc-0bac-4822-8f1f-ecb480053de9",
   "metadata": {},
   "source": [
    "# requests\n",
    "What it does:\n",
    "Sends an HTTP request to a website (like when you open it in a browser).\n",
    "Downloads the HTML code of the page so you can analyze it.\n",
    "\n",
    "Why we need it:\n",
    "Without this, you cannot fetch the website’s data for scraping."
   ]
  },
  {
   "cell_type": "code",
   "execution_count": 4,
   "id": "305a9fce-83e1-416c-8152-4145b77dfbb7",
   "metadata": {},
   "outputs": [],
   "source": [
    "response = requests.get(\"http://quotes.toscrape.com\")"
   ]
  },
  {
   "cell_type": "markdown",
   "id": "12fc1b3e-70d5-453d-9729-952f3d6da234",
   "metadata": {},
   "source": [
    "# beautifulsoup4 (BS4)\n",
    "What it does:\n",
    "Parses (reads and understands) the HTML you got from requests.\n",
    "Lets you easily find and extract specific elements (like quotes, authors, tags)."
   ]
  },
  {
   "cell_type": "code",
   "execution_count": 5,
   "id": "dca1d1fa-b343-4fe2-9f01-f9cc3d151a90",
   "metadata": {},
   "outputs": [
    {
     "name": "stdout",
     "output_type": "stream",
     "text": [
      "“The world as we have created it is a process of our thinking. It cannot be changed without changing our thinking.”\n"
     ]
    }
   ],
   "source": [
    "# Found the first quote’s text using .find() and .get_text()\n",
    "\n",
    "soup = BeautifulSoup(response.text, \"html.parser\")\n",
    "quote = soup.find(\"span\", class_=\"text\").get_text()\n",
    "print(quote)  # Prints one quote text"
   ]
  },
  {
   "cell_type": "markdown",
   "id": "f254a0df-25ed-44ac-b3d1-aa459185df65",
   "metadata": {},
   "source": [
    "#  Extract All Quotes on One Page"
   ]
  },
  {
   "cell_type": "code",
   "execution_count": 11,
   "id": "89a509d5-fa72-4941-aaf3-aa62a32e7cbf",
   "metadata": {},
   "outputs": [],
   "source": [
    "quotes = []\n",
    "authors = []\n",
    "tags_list = []\n"
   ]
  },
  {
   "cell_type": "code",
   "execution_count": 12,
   "id": "20f88591-6327-40dd-ac9f-ac7f1fd35b71",
   "metadata": {},
   "outputs": [],
   "source": [
    "import requests\n",
    "from bs4 import BeautifulSoup\n",
    "\n",
    "base_url = \"http://quotes.toscrape.com/page/{}/\"\n",
    "page = 1\n",
    "\n",
    "while True:\n",
    "    url = base_url.format(page)\n",
    "    response = requests.get(url)\n",
    "    if \"No quotes found!\" in response.text:\n",
    "        break\n",
    "\n",
    "    soup = BeautifulSoup(response.text, \"html.parser\")\n",
    "    quotes_data = soup.find_all(\"div\", class_=\"quote\")\n",
    "\n",
    "    for quote in quotes_data:\n",
    "        text = quote.find(\"span\", class_=\"text\").get_text()\n",
    "        author = quote.find(\"small\", class_=\"author\").get_text()\n",
    "        tags = [tag.get_text() for tag in quote.find_all(\"a\", class_=\"tag\")]\n",
    "\n",
    "        quotes.append(text)\n",
    "        authors.append(author)\n",
    "        tags_list.append(\", \".join(tags))\n",
    "\n",
    "    page += 1\n"
   ]
  },
  {
   "cell_type": "code",
   "execution_count": 14,
   "id": "e20e5e24-94ba-4a7c-a586-ac5e15bd677a",
   "metadata": {},
   "outputs": [
    {
     "name": "stdout",
     "output_type": "stream",
     "text": [
      "Data saved to quotes.csv\n"
     ]
    },
    {
     "data": {
      "text/html": [
       "<div>\n",
       "<style scoped>\n",
       "    .dataframe tbody tr th:only-of-type {\n",
       "        vertical-align: middle;\n",
       "    }\n",
       "\n",
       "    .dataframe tbody tr th {\n",
       "        vertical-align: top;\n",
       "    }\n",
       "\n",
       "    .dataframe thead th {\n",
       "        text-align: right;\n",
       "    }\n",
       "</style>\n",
       "<table border=\"1\" class=\"dataframe\">\n",
       "  <thead>\n",
       "    <tr style=\"text-align: right;\">\n",
       "      <th></th>\n",
       "      <th>Quote</th>\n",
       "      <th>Author</th>\n",
       "      <th>Tags</th>\n",
       "    </tr>\n",
       "  </thead>\n",
       "  <tbody>\n",
       "    <tr>\n",
       "      <th>0</th>\n",
       "      <td>“The world as we have created it is a process ...</td>\n",
       "      <td>Albert Einstein</td>\n",
       "      <td>change, deep-thoughts, thinking, world</td>\n",
       "    </tr>\n",
       "    <tr>\n",
       "      <th>1</th>\n",
       "      <td>“It is our choices, Harry, that show what we t...</td>\n",
       "      <td>J.K. Rowling</td>\n",
       "      <td>abilities, choices</td>\n",
       "    </tr>\n",
       "    <tr>\n",
       "      <th>2</th>\n",
       "      <td>“There are only two ways to live your life. On...</td>\n",
       "      <td>Albert Einstein</td>\n",
       "      <td>inspirational, life, live, miracle, miracles</td>\n",
       "    </tr>\n",
       "    <tr>\n",
       "      <th>3</th>\n",
       "      <td>“The person, be it gentleman or lady, who has ...</td>\n",
       "      <td>Jane Austen</td>\n",
       "      <td>aliteracy, books, classic, humor</td>\n",
       "    </tr>\n",
       "    <tr>\n",
       "      <th>4</th>\n",
       "      <td>“Imperfection is beauty, madness is genius and...</td>\n",
       "      <td>Marilyn Monroe</td>\n",
       "      <td>be-yourself, inspirational</td>\n",
       "    </tr>\n",
       "    <tr>\n",
       "      <th>...</th>\n",
       "      <td>...</td>\n",
       "      <td>...</td>\n",
       "      <td>...</td>\n",
       "    </tr>\n",
       "    <tr>\n",
       "      <th>95</th>\n",
       "      <td>“You never really understand a person until yo...</td>\n",
       "      <td>Harper Lee</td>\n",
       "      <td>better-life-empathy</td>\n",
       "    </tr>\n",
       "    <tr>\n",
       "      <th>96</th>\n",
       "      <td>“You have to write the book that wants to be w...</td>\n",
       "      <td>Madeleine L'Engle</td>\n",
       "      <td>books, children, difficult, grown-ups, write, ...</td>\n",
       "    </tr>\n",
       "    <tr>\n",
       "      <th>97</th>\n",
       "      <td>“Never tell the truth to people who are not wo...</td>\n",
       "      <td>Mark Twain</td>\n",
       "      <td>truth</td>\n",
       "    </tr>\n",
       "    <tr>\n",
       "      <th>98</th>\n",
       "      <td>“A person's a person, no matter how small.”</td>\n",
       "      <td>Dr. Seuss</td>\n",
       "      <td>inspirational</td>\n",
       "    </tr>\n",
       "    <tr>\n",
       "      <th>99</th>\n",
       "      <td>“... a mind needs books as a sword needs a whe...</td>\n",
       "      <td>George R.R. Martin</td>\n",
       "      <td>books, mind</td>\n",
       "    </tr>\n",
       "  </tbody>\n",
       "</table>\n",
       "<p>100 rows × 3 columns</p>\n",
       "</div>"
      ],
      "text/plain": [
       "                                                Quote              Author  \\\n",
       "0   “The world as we have created it is a process ...     Albert Einstein   \n",
       "1   “It is our choices, Harry, that show what we t...        J.K. Rowling   \n",
       "2   “There are only two ways to live your life. On...     Albert Einstein   \n",
       "3   “The person, be it gentleman or lady, who has ...         Jane Austen   \n",
       "4   “Imperfection is beauty, madness is genius and...      Marilyn Monroe   \n",
       "..                                                ...                 ...   \n",
       "95  “You never really understand a person until yo...          Harper Lee   \n",
       "96  “You have to write the book that wants to be w...   Madeleine L'Engle   \n",
       "97  “Never tell the truth to people who are not wo...          Mark Twain   \n",
       "98        “A person's a person, no matter how small.”           Dr. Seuss   \n",
       "99  “... a mind needs books as a sword needs a whe...  George R.R. Martin   \n",
       "\n",
       "                                                 Tags  \n",
       "0              change, deep-thoughts, thinking, world  \n",
       "1                                  abilities, choices  \n",
       "2        inspirational, life, live, miracle, miracles  \n",
       "3                    aliteracy, books, classic, humor  \n",
       "4                          be-yourself, inspirational  \n",
       "..                                                ...  \n",
       "95                                better-life-empathy  \n",
       "96  books, children, difficult, grown-ups, write, ...  \n",
       "97                                              truth  \n",
       "98                                      inspirational  \n",
       "99                                        books, mind  \n",
       "\n",
       "[100 rows x 3 columns]"
      ]
     },
     "execution_count": 14,
     "metadata": {},
     "output_type": "execute_result"
    }
   ],
   "source": [
    "import pandas as pd\n",
    "\n",
    "df = pd.DataFrame({\n",
    "    \"Quote\": quotes,\n",
    "    \"Author\": authors,\n",
    "    \"Tags\": tags_list\n",
    "})\n",
    "\n",
    "df.to_csv(\"quotes.csv\", index=False)\n",
    "print(\"Data saved to quotes.csv\")\n",
    "df"
   ]
  },
  {
   "cell_type": "code",
   "execution_count": 15,
   "id": "85e39b2f-9f24-468f-8b0e-3d75ecb6d0ec",
   "metadata": {},
   "outputs": [
    {
     "name": "stdout",
     "output_type": "stream",
     "text": [
      "Top Authors:\n",
      "Author\n",
      "Albert Einstein    10\n",
      "J.K. Rowling        9\n",
      "Marilyn Monroe      7\n",
      "Dr. Seuss           6\n",
      "Mark Twain          6\n",
      "Name: count, dtype: int64\n"
     ]
    }
   ],
   "source": [
    "print(\"Top Authors:\")\n",
    "print(df['Author'].value_counts().head(5))\n"
   ]
  },
  {
   "cell_type": "code",
   "execution_count": 16,
   "id": "395271a5-3521-4159-99b5-c4c7182f213c",
   "metadata": {},
   "outputs": [
    {
     "name": "stdout",
     "output_type": "stream",
     "text": [
      "\n",
      "Top Tags:\n",
      "love             14\n",
      "inspirational    13\n",
      "life             13\n",
      "humor            12\n",
      "books            11\n",
      "Name: count, dtype: int64\n"
     ]
    }
   ],
   "source": [
    "all_tags = \",\".join(df[\"Tags\"]).split(\",\")\n",
    "all_tags = [tag.strip() for tag in all_tags if tag.strip() != \"\"]\n",
    "tag_counts = pd.Series(all_tags).value_counts()\n",
    "\n",
    "print(\"\\nTop Tags:\")\n",
    "print(tag_counts.head(5))\n"
   ]
  },
  {
   "cell_type": "code",
   "execution_count": 17,
   "id": "a5218094-4a89-472b-af1e-f90c218d9792",
   "metadata": {},
   "outputs": [
    {
     "name": "stdout",
     "output_type": "stream",
     "text": [
      "Total quotes scraped: 100\n",
      "Total unique authors: 50\n"
     ]
    }
   ],
   "source": [
    "print(f\"Total quotes scraped: {len(df)}\")\n",
    "print(f\"Total unique authors: {df['Author'].nunique()}\")\n"
   ]
  },
  {
   "cell_type": "code",
   "execution_count": null,
   "id": "e8399c59-a400-423d-a0e8-05d4f648afb2",
   "metadata": {},
   "outputs": [],
   "source": []
  }
 ],
 "metadata": {
  "kernelspec": {
   "display_name": "Python [conda env:base] *",
   "language": "python",
   "name": "conda-base-py"
  },
  "language_info": {
   "codemirror_mode": {
    "name": "ipython",
    "version": 3
   },
   "file_extension": ".py",
   "mimetype": "text/x-python",
   "name": "python",
   "nbconvert_exporter": "python",
   "pygments_lexer": "ipython3",
   "version": "3.12.7"
  }
 },
 "nbformat": 4,
 "nbformat_minor": 5
}
