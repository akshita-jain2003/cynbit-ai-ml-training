{
 "cells": [
  {
   "cell_type": "markdown",
   "id": "0a5a3adb-0ec3-4861-a79e-34cc723150b9",
   "metadata": {},
   "source": [
    "# Mini Student Report Card Generator"
   ]
  },
  {
   "cell_type": "code",
   "execution_count": 2,
   "id": "56e8d5e8-009b-448d-84d1-dd04e4f959b4",
   "metadata": {},
   "outputs": [
    {
     "name": "stdin",
     "output_type": "stream",
     "text": [
      "Number of students:  3\n",
      "Name : avani\n"
     ]
    },
    {
     "name": "stdout",
     "output_type": "stream",
     "text": [
      "\n",
      " enter the marks of student1: \n"
     ]
    },
    {
     "name": "stdin",
     "output_type": "stream",
     "text": [
      "Subject 1 marks:  89\n",
      "Subject 2 marks:  92\n",
      "Subject 3 marks:  68\n"
     ]
    },
    {
     "name": "stdout",
     "output_type": "stream",
     "text": [
      "\n",
      "\n",
      "\n",
      "Report for avani:\n",
      "Total: 249.0, Average: 83.00, Grade: B\n"
     ]
    },
    {
     "name": "stdin",
     "output_type": "stream",
     "text": [
      "Name : Sakshi\n"
     ]
    },
    {
     "name": "stdout",
     "output_type": "stream",
     "text": [
      "\n",
      " enter the marks of student2: \n"
     ]
    },
    {
     "name": "stdin",
     "output_type": "stream",
     "text": [
      "Subject 1 marks:  98\n",
      "Subject 2 marks:  95\n",
      "Subject 3 marks:  90\n"
     ]
    },
    {
     "name": "stdout",
     "output_type": "stream",
     "text": [
      "\n",
      "\n",
      "\n",
      "Report for Sakshi:\n",
      "Total: 283.0, Average: 94.33, Grade: A\n"
     ]
    },
    {
     "name": "stdin",
     "output_type": "stream",
     "text": [
      "Name : Rakshit\n"
     ]
    },
    {
     "name": "stdout",
     "output_type": "stream",
     "text": [
      "\n",
      " enter the marks of student3: \n"
     ]
    },
    {
     "name": "stdin",
     "output_type": "stream",
     "text": [
      "Subject 1 marks:  85\n",
      "Subject 2 marks:  89\n",
      "Subject 3 marks:  90\n"
     ]
    },
    {
     "name": "stdout",
     "output_type": "stream",
     "text": [
      "\n",
      "\n",
      "\n",
      "Report for Rakshit:\n",
      "Total: 264.0, Average: 88.00, Grade: B\n",
      "\n",
      "📋 Student Report Card:\n",
      "      Name  Subject 1  Subject 2  Subject 3  Total    Average Grade\n",
      "0    avani       89.0       92.0       68.0  249.0  83.000000     B\n",
      "1   Sakshi       98.0       95.0       90.0  283.0  94.333333     A\n",
      "2  Rakshit       85.0       89.0       90.0  264.0  88.000000     B\n"
     ]
    }
   ],
   "source": [
    "import pandas as pd\n",
    "### Function to calculate total average and grade \n",
    "def calculate_results(marks):\n",
    "   total = sum(marks)\n",
    "   average = total/len(marks)\n",
    "\n",
    "   if average >= 90:\n",
    "       grade = 'A'\n",
    "   elif average>= 65:\n",
    "       grade = 'B'\n",
    "   else:\n",
    "       grade = 'C'\n",
    "\n",
    "   return total, average, grade\n",
    "\n",
    "# input number of sturdents\n",
    "stu_num = int(input(\"Number of students: \"))\n",
    "\n",
    "data = []\n",
    "\n",
    "# loop for input marks\n",
    "for i in range(stu_num):\n",
    "    name = input(\"Name :\")\n",
    "    print(f\"\\n enter the marks of student{i+1}: \")\n",
    "    s1 = float(input(\"Subject 1 marks: \"))\n",
    "    s2 = float(input(\"Subject 2 marks: \"))\n",
    "    s3 = float(input(\"Subject 3 marks: \"))\n",
    "    print(\"\\n\")\n",
    "    total, avg, grade = calculate_results([s1, s2, s3])\n",
    "\n",
    "    print(f\"\\nReport for {name}:\")\n",
    "    print(f\"Total: {total}, Average: {avg:.2f}, Grade: {grade}\")\n",
    "\n",
    "    #Store the data in a pandas DataFrame\n",
    "    data.append({ \"Name\":name, \"Subject 1\": s1,\"Subject 2\": s2,\"Subject 3\": s3,\n",
    "                 \"Total\": total, \"Average\": avg, \"Grade\": grade})\n",
    "\n",
    "df = pd.DataFrame(data)\n",
    "print(\"\\n📋 Student Report Card:\")\n",
    "print(df)\n"
   ]
  },
  {
   "cell_type": "code",
   "execution_count": 3,
   "id": "6e84f0f3-50e7-4690-92d5-8432525ab841",
   "metadata": {},
   "outputs": [
    {
     "name": "stdout",
     "output_type": "stream",
     "text": [
      "\n",
      "📊 Class Summary:\n",
      "Total Students: 3\n",
      "Class Average Score: 88.44\n",
      "Grade Distribution:\n",
      "Grade\n",
      "B    2\n",
      "A    1\n",
      "Name: count, dtype: int64\n"
     ]
    }
   ],
   "source": [
    "total_students = len(df)\n",
    "class_avg = df['Average'].mean()\n",
    "grade_counts = df['Grade'].value_counts()\n",
    "\n",
    "print(\"\\n📊 Class Summary:\")\n",
    "print(f\"Total Students: {total_students}\")\n",
    "print(f\"Class Average Score: {class_avg:.2f}\")\n",
    "print(\"Grade Distribution:\")\n",
    "print(grade_counts)\n",
    "\n",
    "# Save to CSV\n",
    "df.to_csv(\"student_report_card.csv\")"
   ]
  },
  {
   "cell_type": "markdown",
   "id": "407be4cb-28c1-4a45-8e87-0dfdf3d040b4",
   "metadata": {},
   "source": [
    "# grade distribution using a bar chart "
   ]
  },
  {
   "cell_type": "code",
   "execution_count": 4,
   "id": "7d7313f9-d40b-4b29-bc4f-132fba9059a2",
   "metadata": {},
   "outputs": [
    {
     "data": {
      "image/png": "[encoded data removed]",
      "text/plain": [
       "<Figure size 640x480 with 1 Axes>"
      ]
     },
     "metadata": {},
     "output_type": "display_data"
    }
   ],
   "source": [
    "import matplotlib.pyplot as plt\n",
    "\n",
    "grade_counts.plot(kind ='bar', color=['skyblue', 'orange', 'salmon'])\n",
    "plt.title(\"Grade Distribution\")\n",
    "plt.xlabel(\"Grade\")\n",
    "plt.ylabel(\"Number of Students\")\n",
    "plt.xticks(rotation=0)\n",
    "plt.show()"
   ]
  },
  {
   "cell_type": "code",
   "execution_count": null,
   "id": "7d84e2a0-97ff-4382-8ee0-7d33d042b227",
   "metadata": {},
   "outputs": [],
   "source": []
  }
 ],
 "metadata": {
  "kernelspec": {
   "display_name": "Python [conda env:base] *",
   "language": "python",
   "name": "conda-base-py"
  },
  "language_info": {
   "codemirror_mode": {
    "name": "ipython",
    "version": 3
   },
   "file_extension": ".py",
   "mimetype": "text/x-python",
   "name": "python",
   "nbconvert_exporter": "python",
   "pygments_lexer": "ipython3",
   "version": "3.12.7"
  }
 },
 "nbformat": 4,
 "nbformat_minor": 5
}
